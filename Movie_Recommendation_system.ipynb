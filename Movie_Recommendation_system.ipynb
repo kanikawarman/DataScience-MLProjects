{
 "cells": [
  {
   "cell_type": "markdown",
   "metadata": {},
   "source": [
    "# Movie Recommendation System\n",
    "Content-based systems recommend items to the customer similar to previously high-rated items by the customer. It uses the features and properties of the item. From these properties, it can calculate the similarity between the items.\n",
    "\n",
    "In a content-based recommendation system, first, we need to create a profile for each item, which represents the properties of those items. The user profiles are inferred for a particular user. We use these user profiles to recommend the items to the users from the catalog. For Example, If the movie is an item, then its actors, director, release year, and genre are its important properties, and for the document, the important property is the type of content and set of important words in it.\n",
    "\n",
    "## Importing Libraries"
   ]
  },
  {
   "cell_type": "code",
   "execution_count": 1,
   "metadata": {},
   "outputs": [],
   "source": [
    "# Importing Libraries\n",
    "import numpy as np\n",
    "import pandas as pd\n",
    "import sklearn\n",
    "import matplotlib.pyplot as plt\n",
    "import seaborn as sns\n",
    "from sklearn.neighbors import NearestNeighbors\n",
    "import warnings\n",
    "warnings.simplefilter(action='ignore', category=FutureWarning)"
   ]
  },
  {
   "cell_type": "markdown",
   "metadata": {},
   "source": [
    "## Loading Datasets\n",
    "\n",
    "Two datasets are imported into this code to do a movie recommendation study. User ratings for movies are included in the first dataset, “ratings.csv,” which is kept in a Pandas DataFrame named ratings. The second dataset, called “movies.csv,” is put into a Pandas DataFrame called “movies” and contains movie metadata like names and genres."
   ]
  },
  {
   "cell_type": "code",
   "execution_count": 2,
   "metadata": {},
   "outputs": [
    {
     "name": "stdout",
     "output_type": "stream",
     "text": [
      "   userId  movieId  rating  timestamp\n",
      "0       1        1     4.0  964982703\n",
      "1       1        3     4.0  964981247\n",
      "2       1        6     4.0  964982224\n",
      "3       1       47     5.0  964983815\n",
      "4       1       50     5.0  964982931\n",
      "   movieId                               title  \\\n",
      "0        1                    Toy Story (1995)   \n",
      "1        2                      Jumanji (1995)   \n",
      "2        3             Grumpier Old Men (1995)   \n",
      "3        4            Waiting to Exhale (1995)   \n",
      "4        5  Father of the Bride Part II (1995)   \n",
      "\n",
      "                                        genres  \n",
      "0  Adventure|Animation|Children|Comedy|Fantasy  \n",
      "1                   Adventure|Children|Fantasy  \n",
      "2                               Comedy|Romance  \n",
      "3                         Comedy|Drama|Romance  \n",
      "4                                       Comedy  \n"
     ]
    }
   ],
   "source": [
    "#loading rating dataset\n",
    "ratings = pd.read_csv(\"/Users/kanikawarman/Downloads/ratings.csv\")\n",
    "print(ratings.head())\n",
    "# loading movie dataset\n",
    "movies = pd.read_csv(\"/Users/kanikawarman/Downloads/movies.csv\")\n",
    "print(movies.head())"
   ]
  },
  {
   "cell_type": "markdown",
   "metadata": {},
   "source": [
    "## Statistical Analysis of Ratings\n",
    "\n",
    "This code computes and reports a number of crucial statistics for a movie ratings dataset. It counts the number of unique movie IDs (n_movies) and user IDs (n_users) as well as the total number of ratings (n_ratings). These metrics provide important information about the properties of the dataset, including its size and the variety of people and movies inside it. To give a more complete picture of the distribution of ratings throughout the dataset, it also calculates and shows the average number of ratings for each user and each movie. Understanding the size and user interaction of the dataset requires knowledge of this information."
   ]
  },
  {
   "cell_type": "code",
   "execution_count": 3,
   "metadata": {},
   "outputs": [
    {
     "name": "stdout",
     "output_type": "stream",
     "text": [
      "Number of ratings: 100836\n",
      "Number of unique movieId's: 9724\n",
      "Number of unique users: 610\n",
      "Average ratings per user: 165.3\n",
      "Average ratings per movie: 10.37\n"
     ]
    }
   ],
   "source": [
    "n_ratings = len(ratings)\n",
    "n_movies = len(ratings['movieId'].unique())\n",
    "n_users = len(ratings['userId'].unique())\n",
    "print(f\"Number of ratings: {n_ratings}\")\n",
    "print(f\"Number of unique movieId's: {n_movies}\")\n",
    "print(f\"Number of unique users: {n_users}\")\n",
    "print(f\"Average ratings per user: {round(n_ratings/n_users, 2)}\")\n",
    "print(f\"Average ratings per movie: {round(n_ratings/n_movies, 2)}\")"
   ]
  },
  {
   "cell_type": "markdown",
   "metadata": {},
   "source": [
    "### User Rating Frequency\n",
    "\n",
    "The movie ratings dataset’s user-specific statistics are computed and shown in this code segment. After classifying the data according to user IDs, it calculates the total number of ratings each user has submitted and saves the results in a new DataFrame named user_freq. With ‘userId’ denoting the user ID and ‘n_ratings’ the number of ratings the user has contributed, the columns are suitably labeled. To facilitate additional user-based analysis and the creation of recommendation systems, this user-level frequency information is crucial for comprehending user engagement and activity inside the rating dataset. "
   ]
  },
  {
   "cell_type": "code",
   "execution_count": 4,
   "metadata": {},
   "outputs": [
    {
     "name": "stdout",
     "output_type": "stream",
     "text": [
      "   userId  n_ratings\n",
      "0       1        232\n",
      "1       2         29\n",
      "2       3         39\n",
      "3       4        216\n",
      "4       5         44\n"
     ]
    }
   ],
   "source": [
    "user_freq = ratings[['userId', 'movieId']].groupby(\n",
    "\t'userId').count().reset_index()\n",
    "user_freq.columns = ['userId', 'n_ratings']\n",
    "print(user_freq.head())"
   ]
  },
  {
   "cell_type": "markdown",
   "metadata": {},
   "source": [
    "### Movie Rating Analysis\n",
    "\n",
    "To determine which movies in the dataset have the lowest and highest ratings, this algorithm analyzes movie reviews. It determines the average ratings for every film, making it possible to identify which ones have the lowest and greatest average ratings. Subsequently, the algorithm accesses and presents the information about these films from the’movies’ dataset. It also sheds light on the popularity and audience involvement of the movie by displaying the number of users who rated both the highest and lowest-ranked ones. This gives insights into user engagement. Bayesian averages may offer more accurate quality ratings for films with a small number of ratings."
   ]
  },
  {
   "cell_type": "code",
   "execution_count": 5,
   "metadata": {},
   "outputs": [],
   "source": [
    "# Find Lowest and Highest rated movies:\n",
    "mean_rating = ratings.groupby('movieId')[['rating']].mean()\n",
    "# Lowest rated movies\n",
    "lowest_rated = mean_rating['rating'].idxmin()\n",
    "movies.loc[movies['movieId'] == lowest_rated]\n",
    "# Highest rated movies\n",
    "highest_rated = mean_rating['rating'].idxmax()\n",
    "movies.loc[movies['movieId'] == highest_rated]\n",
    "# show number of people who rated movies rated movie highest\n",
    "ratings[ratings['movieId']==highest_rated]\n",
    "# show number of people who rated movies rated movie lowest\n",
    "ratings[ratings['movieId']==lowest_rated]\n",
    "\n",
    "## the above movies has very low dataset. We will use bayesian average\n",
    "movie_stats = ratings.groupby('movieId')[['rating']].agg(['count', 'mean'])\n",
    "movie_stats.columns = movie_stats.columns.droplevel()"
   ]
  },
  {
   "cell_type": "markdown",
   "metadata": {},
   "source": [
    "### User-Item Matrix Creation\n",
    "\n",
    "A user-item matrix is a basic data structure in recommendation systems, and it is created by the code that is given. This is how it operates:\n",
    "\n",
    "To find the number of unique users and unique videos in the dataset, N and M are computed.\n",
    "There are four dictionaries produced:\n",
    "    user_mapper: Maps distinct user IDs to indexes (user ID 1 becomes index 0 for example).\n",
    "    movie_mapper: Converts distinct movie IDs into indices (movie ID 1 becomes index 0 for example).\n",
    "    user_inv_mapper: Reverses user_mapper and maps indices back to user IDs.\n",
    "    movie_inv_mapper: Reverses movie_mapper by mapping indices to movie IDs.\n",
    "To map the real user and movie IDs in the dataset to their matching indices, the lists user_index and movie_index are generated.\n",
    "A sparse matrix X is created using the SciPy function csr_matrix. The user and movie indices that correspond to the rating values in the dataset are used to generate this matrix. The form of it is (M, N), where M denotes the quantity of distinct films and N denotes the quantity of distinct consumers."
   ]
  },
  {
   "cell_type": "code",
   "execution_count": 6,
   "metadata": {},
   "outputs": [],
   "source": [
    "# Now, we create user-item matrix using scipy csr matrix\n",
    "from scipy.sparse import csr_matrix\n",
    "\n",
    "def create_matrix(df):\n",
    "\t\n",
    "\tN = len(df['userId'].unique())\n",
    "\tM = len(df['movieId'].unique())\n",
    "\t\n",
    "\t# Map Ids to indices\n",
    "\tuser_mapper = dict(zip(np.unique(df[\"userId\"]), list(range(N))))\n",
    "\tmovie_mapper = dict(zip(np.unique(df[\"movieId\"]), list(range(M))))\n",
    "\t\n",
    "\t# Map indices to IDs\n",
    "\tuser_inv_mapper = dict(zip(list(range(N)), np.unique(df[\"userId\"])))\n",
    "\tmovie_inv_mapper = dict(zip(list(range(M)), np.unique(df[\"movieId\"])))\n",
    "\t\n",
    "\tuser_index = [user_mapper[i] for i in df['userId']]\n",
    "\tmovie_index = [movie_mapper[i] for i in df['movieId']]\n",
    "\n",
    "\tX = csr_matrix((df[\"rating\"], (movie_index, user_index)), shape=(M, N))\n",
    "\t\n",
    "\treturn X, user_mapper, movie_mapper, user_inv_mapper, movie_inv_mapper\n",
    "\t\n",
    "X, user_mapper, movie_mapper, user_inv_mapper, movie_inv_mapper = create_matrix(ratings)\n"
   ]
  },
  {
   "cell_type": "markdown",
   "metadata": {},
   "source": [
    "### Movie Similarity Analysis\n",
    "\n",
    "The provided code defines a function, “find_similar_movies,” which uses the k-Nearest Neighbors (KNN) algorithm to identify movies that are similar to a given movie. The function takes inputs such as the target movie ID, a user-item matrix (X), the number of neighbors to consider (k), a similarity metric (default is cosine similarity), and an option to show distances between movies. The function begins by initializing a blank list to hold the IDs of films that are comparable. It takes the target movie’s index out of the movie_mapper dictionary and uses the user-item matrix to acquire the feature vector that goes with it. Next, the KNN model is configured using the given parameters.\n",
    "\n",
    "The distances and indices of the k-nearest neighbors to the target movie are calculated once the KNN model has been fitted. Using the movie_inv_mapper dictionary, the loop retrieves these neighbor indices and maps them back to movie IDs. Since it matches the desired movie, the first item in the list is eliminated. The code ends with a list of related movie titles and the title of the target film, suggesting movies based on the KNN model."
   ]
  },
  {
   "cell_type": "code",
   "execution_count": 7,
   "metadata": {},
   "outputs": [],
   "source": [
    "\"\"\"\n",
    "Find similar movies using KNN\n",
    "\"\"\"\n",
    "def find_similar_movies(movie_id, X, k, metric='cosine', show_distance=False):\n",
    "\t\n",
    "\tneighbour_ids = []\n",
    "\t\n",
    "\tmovie_ind = movie_mapper[movie_id]\n",
    "\tmovie_vec = X[movie_ind]\n",
    "\tk+=1\n",
    "\tkNN = NearestNeighbors(n_neighbors=k, algorithm=\"brute\", metric=metric)\n",
    "\tkNN.fit(X)\n",
    "\tmovie_vec = movie_vec.reshape(1,-1)\n",
    "\tneighbour = kNN.kneighbors(movie_vec, return_distance=show_distance)\n",
    "\tfor i in range(0,k):\n",
    "\t\tn = neighbour.item(i)\n",
    "\t\tneighbour_ids.append(movie_inv_mapper[n])\n",
    "\tneighbour_ids.pop(0)\n",
    "\treturn neighbour_ids\n",
    "\n",
    "\n",
    "movie_titles = dict(zip(movies['movieId'], movies['title']))"
   ]
  },
  {
   "cell_type": "markdown",
   "metadata": {},
   "source": [
    "## Movie Recommendation with respect to Users Preference\n",
    "\n",
    "The function accepts the following inputs: dictionaries (user_mapper, movie_mapper, and movie_inv_mapper) for mapping user and movie IDs to matrix indices; the user_id for which recommendations are desired; a user-item matrix X representing movie ratings; and an optional parameter k for the number of recommended movies (default is 10).\n",
    "\n",
    "It initially filters the ratings dataset to see if the user with the given ID is there. It notifies the user that the requested person does not exist and ends the function if the user does not exist (the filtered DataFrame is empty).\n",
    "The code, if it exists, designates the movie that has received the highest rating from that particular user. It finds the movieId of this movie and chooses it based on the highest rating.\n",
    "With information from the movies dataset, a dictionary called movie_titles is created to map movie IDs to their titles. The function then uses find_similar_movies to locate films that are comparable to the movie in the user-item matrix that has the highest rating (denoted by movie_id). It gives back a list of comparable movie IDs.\n",
    "The code searches the movie titles dictionary for the title of the highest-rated film, and if the film is not found, it sets the title to “Movie not found.” When a movie title is retrieved as “Movie not found,” it means that the highest-rated film (based on movie_id) is not present in the dataset. If the movie is located, the customer is presented with recommendations for other movies based on the highest rated film. The list of comparable movie IDs is iterated over, and the titles are printed. When a movie isn’t discovered in the dataset, the default message is “Movie not found.”\n",
    "The function handles situations where the user or movie doesn’t exist in the dataset and is intended to suggest movies for a particular user based on their highest-rated film. The code calls the function with the necessary parameters and sets the user_id to a specific user to show how to utilize the method."
   ]
  },
  {
   "cell_type": "code",
   "execution_count": 8,
   "metadata": {},
   "outputs": [
    {
     "name": "stdout",
     "output_type": "stream",
     "text": [
      "Since you watched Grumpier Old Men (1995)\n",
      "Grumpy Old Men (1993)\n",
      "Striptease (1996)\n",
      "Nutty Professor, The (1996)\n",
      "Twister (1996)\n",
      "Father of the Bride Part II (1995)\n",
      "Broken Arrow (1996)\n",
      "Bio-Dome (1996)\n",
      "Truth About Cats & Dogs, The (1996)\n",
      "Sabrina (1995)\n",
      "Birdcage, The (1996)\n"
     ]
    }
   ],
   "source": [
    "movie_id = 3\n",
    "\n",
    "similar_ids = find_similar_movies(movie_id, X, k=10)\n",
    "movie_title = movie_titles[movie_id]\n",
    "\n",
    "print(f\"Since you watched {movie_title}\")\n",
    "for i in similar_ids:\n",
    "\tprint(movie_titles[i])\n",
    "\n",
    "\n",
    "def recommend_movies_for_user(user_id, X, user_mapper, movie_mapper, movie_inv_mapper, k=10):\n",
    "\tdf1 = ratings[ratings['userId'] == user_id]\n",
    "\t\n",
    "\tif df1.empty:\n",
    "\t\tprint(f\"User with ID {user_id} does not exist.\")\n",
    "\t\treturn\n",
    "\n",
    "\tmovie_id = df1[df1['rating'] == max(df1['rating'])]['movieId'].iloc[0]\n",
    "\n",
    "\tmovie_titles = dict(zip(movies['movieId'], movies['title']))\n",
    "\n",
    "\tsimilar_ids = find_similar_movies(movie_id, X, k)\n",
    "\tmovie_title = movie_titles.get(movie_id, \"Movie not found\")\n",
    "\n",
    "\tif movie_title == \"Movie not found\":\n",
    "\t\tprint(f\"Movie with ID {movie_id} not found.\")\n",
    "\t\treturn\n",
    "\n",
    "\tprint(f\"Since you watched {movie_title}, you might also like:\")\n",
    "\tfor i in similar_ids:\n",
    "\t\tprint(movie_titles.get(i, \"Movie not found\"))\n",
    "\n",
    "\n",
    "\n"
   ]
  },
  {
   "cell_type": "code",
   "execution_count": 9,
   "metadata": {},
   "outputs": [
    {
     "name": "stdout",
     "output_type": "stream",
     "text": [
      "User with ID 2300 does not exist.\n"
     ]
    }
   ],
   "source": [
    "\n",
    "user_id = 2300 # Replace with the desired user ID\n",
    "recommend_movies_for_user(user_id, X, user_mapper, movie_mapper, movie_inv_mapper, k=10)"
   ]
  },
  {
   "cell_type": "code",
   "execution_count": 10,
   "metadata": {},
   "outputs": [
    {
     "name": "stdout",
     "output_type": "stream",
     "text": [
      "Since you watched Twelve Monkeys (a.k.a. 12 Monkeys) (1995), you might also like:\n",
      "Pulp Fiction (1994)\n",
      "Terminator 2: Judgment Day (1991)\n",
      "Independence Day (a.k.a. ID4) (1996)\n",
      "Seven (a.k.a. Se7en) (1995)\n",
      "Fargo (1996)\n",
      "Fugitive, The (1993)\n",
      "Usual Suspects, The (1995)\n",
      "Jurassic Park (1993)\n",
      "Star Wars: Episode IV - A New Hope (1977)\n",
      "Heat (1995)\n"
     ]
    }
   ],
   "source": [
    "\n",
    "user_id = 150 # Replace with the desired user ID\n",
    "recommend_movies_for_user(user_id, X, user_mapper, movie_mapper, movie_inv_mapper, k=10)\n"
   ]
  },
  {
   "cell_type": "markdown",
   "metadata": {},
   "source": [
    "## Conclusion\n",
    "\n",
    "In conclusion, developing a recommendation system allows for the creation of tailored content recommendations that improve user experience and take into account user preferences. Through the utilization of collaborative filtering, content-based filtering, and hybrid techniques, these systems are able to offer customized recommendations to consumers for content, movies, or items. These systems use sophisticated methods such as closest neighbors and matrix factorization to find hidden patterns in item attributes and user behavior. Recommendation systems are able to adjust and get better over time thanks to the combination of machine learning and data-driven insights. In the end, these solutions are essential for raising consumer satisfaction, improving user engagement, and propelling corporate expansion in a variety of industries."
   ]
  }
 ],
 "metadata": {
  "kernelspec": {
   "display_name": "Python 3",
   "language": "python",
   "name": "python3"
  },
  "language_info": {
   "codemirror_mode": {
    "name": "ipython",
    "version": 3
   },
   "file_extension": ".py",
   "mimetype": "text/x-python",
   "name": "python",
   "nbconvert_exporter": "python",
   "pygments_lexer": "ipython3",
   "version": "3.10.6"
  }
 },
 "nbformat": 4,
 "nbformat_minor": 2
}
