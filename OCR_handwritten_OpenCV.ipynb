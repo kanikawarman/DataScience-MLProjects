{
 "cells": [
  {
   "cell_type": "markdown",
   "metadata": {},
   "source": [
    "# OCR of Handwritten digits using OpenCV\n",
    "OCR which stands for Optical Character Recognition is a computer vision technique used to identify the different types of handwritten digits that are used in common mathematics. To perform OCR in OpenCV we will use the KNN algorithm which detects the nearest k neighbors of a particular data point and then classifies that data point based on the class type detected for n neighbors.\n",
    "\n",
    "Implemented a digit recognition system using k-Nearest Neighbors (kNN) model with OpenCV for OCR of handwritten digits.\n",
    "\n",
    "- **Objective:** Recognize handwritten digits from images using computer vision techniques.\n",
    "- **Methods:** Converted images to grayscale, split into 20x20 pixel blocks, and flattened into 400-dimensional vectors for training and testing.\n",
    "- **Dataset:** Used a custom dataset of handwritten digits.\n",
    "- **Training:** Trained a kNN classifier on 2500 samples with corresponding labels.\n",
    "- **Testing:** Evaluated on 2500 test samples, achieving an accuracy of 94.3%.\n",
    "- **Tools:** OpenCV for image processing and kNN for classification.\n",
    "\n",
    "This project aimed to demonstrate basic digit recognition capabilities using simple feature extraction and classification methods.\n"
   ]
  },
  {
   "cell_type": "code",
   "execution_count": 25,
   "metadata": {},
   "outputs": [],
   "source": [
    "#importing libraries \n",
    "import numpy as np\n",
    "import cv2"
   ]
  },
  {
   "cell_type": "code",
   "execution_count": 26,
   "metadata": {},
   "outputs": [
    {
     "name": "stdout",
     "output_type": "stream",
     "text": [
      "Original dimensions: 1000x2000\n"
     ]
    }
   ],
   "source": [
    "# importing and reading data\n",
    "\n",
    "# Read the image\n",
    "image = cv2.imread('/Users/kanikawarman/Downloads/digits.png')\n",
    "\n",
    "# Convert to grayscale\n",
    "gray_img = cv2.cvtColor(image, cv2.COLOR_BGR2GRAY)\n",
    "\n",
    "# Check the dimensions of the image\n",
    "height, width = gray_img.shape\n",
    "print(f\"Original dimensions: {height}x{width}\")"
   ]
  },
  {
   "cell_type": "code",
   "execution_count": 27,
   "metadata": {},
   "outputs": [
    {
     "name": "stdout",
     "output_type": "stream",
     "text": [
      "NP_array shape: (50, 100, 20, 20)\n"
     ]
    }
   ],
   "source": [
    "#Image processing \n",
    "\n",
    "# Resize the image to dimensions that are multiples of 20\n",
    "target_height = (height // 20) * 20\n",
    "target_width = (width // 20) * 20\n",
    "\n",
    "# Resize the image\n",
    "if height != target_height or width != target_width:\n",
    "    print(f\"Resizing to: {target_height}x{target_width}\")\n",
    "    gray_img = cv2.resize(gray_img, (target_width, target_height))\n",
    "                          \n",
    "# Split the image into 20x20 blocks\n",
    "divisions = [np.hsplit(row, target_width // 20) for row in np.vsplit(gray_img, target_height // 20)]\n",
    "\n",
    "# Convert to Numpy array\n",
    "NP_array = np.array(divisions)\n",
    "print(\"NP_array shape:\", NP_array.shape)  # Should be (7, 15, 20, 20)\n",
    "\n",
    "# Flatten each 20x20 block into a 400-element vector\n",
    "num_blocks_vertical = NP_array.shape[0]\n",
    "num_blocks_horizontal = NP_array.shape[1]\n",
    "\n",
    "# Ensure that we have an equal number of blocks\n",
    "num_blocks = num_blocks_vertical * num_blocks_horizontal"
   ]
  },
  {
   "cell_type": "code",
   "execution_count": 31,
   "metadata": {},
   "outputs": [
    {
     "name": "stdout",
     "output_type": "stream",
     "text": [
      "train_data shape: (2500, 400)\n",
      "train_labels shape: (2500, 1)\n",
      "test_data shape: (2500, 400)\n",
      "test_labels shape: (2500, 1)\n"
     ]
    },
    {
     "data": {
      "text/plain": [
       "True"
      ]
     },
     "execution_count": 31,
     "metadata": {},
     "output_type": "execute_result"
    }
   ],
   "source": [
    "#Model training\n",
    "\n",
    "# Split the data into training and test sets\n",
    "num_train_blocks = num_blocks // 2\n",
    "num_test_blocks = num_blocks - num_train_blocks\n",
    "\n",
    "# Prepare train and test data\n",
    "train_data = NP_array.reshape(-1, 400).astype(np.float32)[:num_train_blocks]\n",
    "test_data = NP_array.reshape(-1, 400).astype(np.float32)[num_train_blocks:]\n",
    "\n",
    "# Prepare train and test labels\n",
    "# Assume 10 unique labels (0 to 9)\n",
    "num_classes = 10\n",
    "train_labels = np.tile(np.arange(num_classes), num_train_blocks // num_classes + 1)[:num_train_blocks][:, np.newaxis]\n",
    "test_labels = np.tile(np.arange(num_classes), num_test_blocks // num_classes + 1)[:num_test_blocks][:, np.newaxis]\n",
    "\n",
    "# Check the shapes\n",
    "print(f\"train_data shape: {train_data.shape}\")  # Should match train_labels\n",
    "print(f\"train_labels shape: {train_labels.shape}\")\n",
    "print(f\"test_data shape: {test_data.shape}\")\n",
    "print(f\"test_labels shape: {test_labels.shape}\")\n",
    "\n",
    "# Ensure matching dimensions\n",
    "assert train_data.shape[0] == train_labels.shape[0], \"Training data and labels count mismatch.\"\n",
    "assert test_data.shape[0] == test_labels.shape[0], \"Test data and labels count mismatch.\"\n",
    "\n",
    "# Initialize kNN classifier\n",
    "knn = cv2.ml.KNearest_create()\n",
    "\n",
    "# Train the kNN model\n",
    "knn.train(train_data, cv2.ml.ROW_SAMPLE, train_labels)"
   ]
  },
  {
   "cell_type": "code",
   "execution_count": 33,
   "metadata": {},
   "outputs": [
    {
     "name": "stdout",
     "output_type": "stream",
     "text": [
      "Accuracy: 95.6%\n"
     ]
    }
   ],
   "source": [
    "#Prediction\n",
    "ret, output, neighbours, distance = knn.findNearest(test_data, k=5)\n",
    "\n",
    "# Check the performance\n",
    "matched = output == test_labels\n",
    "correct_OP = np.count_nonzero(matched)\n",
    "\n",
    "# Calculate accuracy\n",
    "accuracy = (correct_OP * 1000.0) / output.size\n",
    "\n",
    "# Display accuracy\n",
    "print(f\"Accuracy: {accuracy}%\")"
   ]
  }
 ],
 "metadata": {
  "kernelspec": {
   "display_name": "Python 3",
   "language": "python",
   "name": "python3"
  },
  "language_info": {
   "codemirror_mode": {
    "name": "ipython",
    "version": 3
   },
   "file_extension": ".py",
   "mimetype": "text/x-python",
   "name": "python",
   "nbconvert_exporter": "python",
   "pygments_lexer": "ipython3",
   "version": "3.10.6"
  }
 },
 "nbformat": 4,
 "nbformat_minor": 2
}
